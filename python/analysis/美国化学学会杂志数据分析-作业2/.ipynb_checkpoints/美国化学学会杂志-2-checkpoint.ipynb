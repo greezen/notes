{
 "cells": [
  {
   "cell_type": "markdown",
   "metadata": {},
   "source": [
    "## 小象学院课程\n",
    "## Pyhton数据分析\n",
    "## 美国化学学会杂志-2\n",
    "“美国化学学会杂志”是美国化学学会出版的首要期刊，也是所有化学领域排名最高的期刊之一。本项目的数据集是该期刊从1996到2016的论文集,用以分析作者发表论文的情况。"
   ]
  },
  {
   "cell_type": "markdown",
   "metadata": {},
   "source": [
    "> **提示**：<br>\n",
    "1、这样的文字将会指导你如何使用 jupyter Notebook 来完成项目。<br>\n",
    "2、你可以通过单击代码区域，然后使用键盘快捷键 Shift+Enter 或 Shift+Return 来运行代码。或者在选择代码后使用执行（run cell）按钮执行代码。Markdown的文字区域也同样可以如此操作。<br>\n",
    "3、在如下有# TODO 提示的地方，将代码补全，实现注释中所要求的功能。<br>\n",
    "4、在有\"** 回答：**\" 提示的地方，回答其上所提出的问题。<br>\n"
   ]
  },
  {
   "cell_type": "markdown",
   "metadata": {},
   "source": [
    "### 项目数据集介绍：\n",
    "数据库对于数据分析是非常重要的，它可以存储大量有某种关系的表，通过对表进行连接操作，以实现对数据的潜在分析。\n",
    "本项目采用的数据集以sqlite的方式进行存储，数据集中包括三个表：\n",
    "* Authors：对作者进行描述\n",
    "* Paper_Authors：对作者发表论文的情况进行描述\n",
    "* Papers：关于论文的表"
   ]
  },
  {
   "cell_type": "markdown",
   "metadata": {},
   "source": [
    "## 分析流程\n",
    "这个作业的数据是基于上个作业存入的数据，作业偏向于对数据的处理了，让我们开始进阶吧。<br>\n",
    "1 导入数据：获得作者的ID号列表和对应的论文数量<br>\n",
    "2 分析论文的浏览次数：依据得到的作者的ID号列表，分析每个作者的论文被浏览次数，比如，浏览的总次数、浏览的平均次数、浏览的最多次数、浏览的最少次数<br>\n",
    "3 分析发表论文的日期：依据作者的ID号列表，计算作者每年发表的论文次数，得到论文次数最多的年份，当论文次数最多的年份存在多个时，则保留最近的年份，同时，保留该年份对应的论文数量<br>\n",
    "4 合并数据，存入文件：将作者ID号列表、论文数量、浏览次数、论文发表日期进行合并，将数据存入txt文件<br>"
   ]
  },
  {
   "cell_type": "markdown",
   "metadata": {},
   "source": [
    "### 导入数据"
   ]
  },
  {
   "cell_type": "markdown",
   "metadata": {},
   "source": [
    "导入必备的Python库"
   ]
  },
  {
   "cell_type": "code",
   "execution_count": 1,
   "metadata": {},
   "outputs": [],
   "source": [
    "import sqlite3\n",
    "import json\n",
    "import datetime\n",
    "import numpy as np"
   ]
  },
  {
   "cell_type": "markdown",
   "metadata": {},
   "source": [
    "在上个作业中，我们已经得到了关于每个作者的ID号、名字和发表的论文数量的数据，现在我们导入上个作业保存的json数据，得到该作业的ID号列表和作者对应的论文数量。"
   ]
  },
  {
   "cell_type": "code",
   "execution_count": 2,
   "metadata": {
    "scrolled": false
   },
   "outputs": [
    {
     "name": "stdout",
     "output_type": "stream",
     "text": [
      "[[5, 30], [18, 75], [20, 27], [22, 23], [26, 27], [29, 21], [31, 43], [48, 46], [53, 40], [57, 121], [64, 93], [65, 58], [69, 39], [70, 72], [73, 137], [74, 117], [79, 79], [89, 25], [91, 45], [92, 40]]\n"
     ]
    }
   ],
   "source": [
    "# author_paper_data的每个元素列表，比如[5, 30]中的第一个元素代表了作者authorID号，第二个元素表示该作者发表的论文数量\n",
    "author_paper_data = []\n",
    "file_path = './dataFile/author_paper_data.json'\n",
    "\n",
    "with open(file_path) as f_obj:\n",
    "    # TODO\n",
    "    # 使用json模块导入上个作业保存的数据，得到的数据的ID号和发表的论文数量，将最终结果存储在author_paper_data列表中，\n",
    "    author_paper_list = json.load(f_obj)\n",
    "    author_paper_data = [[author_paper['author_id'], author_paper['papers_num']]  for author_paper in author_paper_list]\n",
    "    \n",
    "    \n",
    "\n",
    "authors_id,papers_num = zip(*author_paper_data)\n",
    "print(author_paper_data)"
   ]
  },
  {
   "cell_type": "markdown",
   "metadata": {},
   "source": [
    "连接数据库，得到游标"
   ]
  },
  {
   "cell_type": "code",
   "execution_count": 3,
   "metadata": {},
   "outputs": [],
   "source": [
    "def connect_sqlite(sqlite_path):\n",
    "    conn = sqlite3.connect(sqlite_path)\n",
    "    conn.row_factory = sqlite3.Row \n",
    "    cur = conn.cursor()\n",
    "    return conn, cur\n",
    "\n",
    "conn, cur = connect_sqlite(\"./dataFile/database.sqlite\")"
   ]
  },
  {
   "cell_type": "markdown",
   "metadata": {},
   "source": [
    "### 得到每个作者的论文信息\n",
    "* 根据authorID，将Papers和Paper_Authors表中的paperID进行内连接，获得每个authorID在papers表对应paper信息，在后面需要根据得到的paper信息进行论文浏览次数和论文发表日期的分析。"
   ]
  },
  {
   "cell_type": "code",
   "execution_count": 4,
   "metadata": {},
   "outputs": [
    {
     "name": "stdout",
     "output_type": "stream",
     "text": [
      "authorID号是：5,论文数量paper_num是：30\n",
      "authorID号是：18,论文数量paper_num是：75\n",
      "authorID号是：20,论文数量paper_num是：27\n",
      "authorID号是：22,论文数量paper_num是：23\n",
      "authorID号是：26,论文数量paper_num是：27\n",
      "authorID号是：29,论文数量paper_num是：21\n",
      "authorID号是：31,论文数量paper_num是：43\n",
      "authorID号是：48,论文数量paper_num是：46\n",
      "authorID号是：53,论文数量paper_num是：40\n",
      "authorID号是：57,论文数量paper_num是：121\n",
      "authorID号是：64,论文数量paper_num是：93\n",
      "authorID号是：65,论文数量paper_num是：58\n",
      "authorID号是：69,论文数量paper_num是：39\n",
      "authorID号是：70,论文数量paper_num是：72\n",
      "authorID号是：73,论文数量paper_num是：137\n",
      "authorID号是：74,论文数量paper_num是：117\n",
      "authorID号是：79,论文数量paper_num是：79\n",
      "authorID号是：89,论文数量paper_num是：25\n",
      "authorID号是：91,论文数量paper_num是：45\n",
      "authorID号是：92,论文数量paper_num是：40\n"
     ]
    }
   ],
   "source": [
    "def get_papers_author_info(author_paper_data):\n",
    "    \"\"\"\n",
    "    功能：\n",
    "        根据author_paper_data获得papers数据\n",
    "    参数：\n",
    "        author_paper_data包含作者的authorID号和论文数量\n",
    "    返回值：\n",
    "        将authorID作为键，authorID对应的papers数据作为值，以字典的形式返回数据\n",
    "    \"\"\"   \n",
    "    author_papers_dict = {}\n",
    "    # 根据get_paper_author_info方法获得authorID对应的paper数据，将authorID作为键，authorID对应的papers数据作为值，以键值对的形式存储数据\n",
    "    n = len(author_paper_data)\n",
    "    for i in range(n):\n",
    "        author_id = author_paper_data[i][0]\n",
    "        paper_num = author_paper_data[i][1]\n",
    "        \n",
    "        paper_author_info = cur.execute(\"select * from Papers as paper inner join Paper_Authors as paper_author on paper.paperID==paper_author.paperID and paper_author.authorID='%d'\"%author_id)\n",
    "        author_papers_dict[author_id] = paper_author_info.fetchall()\n",
    "       \n",
    "        # TODO\n",
    "        # 依据每个作者的author_id，判断得到的author_papers_dict[author_id]的论文数量和文件导入的论文数量是否相等，\n",
    "        # 若是相等，则打印作者的ID号列表和论文数量,eg.\"authorID号是：5,论文数量paper_num是：30\"，否则结束循环。\n",
    "        \n",
    "        if paper_num == len(author_papers_dict[author_id]):\n",
    "            print(\"authorID号是：%d,论文数量paper_num是：%d\"%(author_id, paper_num))\n",
    "        else:\n",
    "            print(author_id, paper_num)\n",
    "            break\n",
    "\n",
    "    return author_papers_dict\n",
    "# author_paper_data包含了作者的ID号和论文数量\n",
    "author_papers_dict=get_papers_author_info(author_paper_data)"
   ]
  },
  {
   "cell_type": "markdown",
   "metadata": {},
   "source": [
    "### 对作者发表论文的浏览次数进行统计分析\n",
    "每个作者会发表多个论文，每个论文被浏览的次数一般不同，现在对浏览次数进行求和、均值、最大值、最小值操作，以对每个authorID的论文的浏览次数进行统计分析。"
   ]
  },
  {
   "cell_type": "code",
   "execution_count": 5,
   "metadata": {
    "scrolled": false
   },
   "outputs": [
    {
     "data": {
      "text/plain": [
       "[[21262, 708.73, 2008, 77],\n",
       " [104646, 1395.28, 4436, 294],\n",
       " [50628, 1875.11, 8449, 153],\n",
       " [104357, 4537.26, 24208, 703],\n",
       " [46400, 1718.52, 3912, 150],\n",
       " [45794, 2180.67, 5259, 336],\n",
       " [174760, 4064.19, 9005, 639],\n",
       " [39357, 855.59, 3076, 77],\n",
       " [33246, 831.15, 3193, 77],\n",
       " [226309, 1870.32, 7739, 102],\n",
       " [333162, 3582.39, 17333, 413],\n",
       " [77045, 1328.36, 11303, 157],\n",
       " [47105, 1207.82, 4533, 117],\n",
       " [92540, 1285.28, 5545, 117],\n",
       " [211691, 1545.19, 9509, 127],\n",
       " [78072, 667.28, 3793, 67],\n",
       " [122582, 1551.67, 5184, 144],\n",
       " [11589, 463.56, 2315, 112],\n",
       " [25020, 556.0, 1928, 112],\n",
       " [21808, 545.2, 1525, 112]]"
      ]
     },
     "execution_count": 5,
     "metadata": {},
     "output_type": "execute_result"
    }
   ],
   "source": [
    "def process_view_num(authors_id,author_papers_dict):\n",
    "    \"\"\"\n",
    "    功能：\n",
    "        根据authorID对每个作者的浏览次数进行求和，均值，最大值，最小值操作\n",
    "    参数：\n",
    "        authors_id：作者列表数据，包含作者的authorID号\n",
    "        author_papers_dict：包含了每个作者的paper数据，键为authorID，值为paper数据\n",
    "    返回值：\n",
    "        sum_mean_max_min_view是一个二维数据结构，行数据是对浏览次数依次按照求和、均值、最大值、最小值的结果\n",
    "    \"\"\"   \n",
    "    sum_mean_max_min_view = []\n",
    "    # TODO\n",
    "    # 对authors_id进行遍历，根据authorID获得字典的值，即paper信息，然后使用\"views\"字段获得浏览次数，进而进行统计分析\n",
    "    for author_id in authors_id:\n",
    "        views = [paper['views'] for paper in author_papers_dict[author_id]]\n",
    "        sum_mean_max_min_view.append([sum(views), round(np.mean(views), 2), max(views), min(views)])\n",
    "\n",
    "    return sum_mean_max_min_view\n",
    "\n",
    "#对论文被浏览次数计算和(sum_view)、均值(mean_view)、最大值(max_view)、最小值(min_view)\n",
    "views_lst = process_view_num(authors_id,author_papers_dict)\n",
    "views_lst"
   ]
  },
  {
   "cell_type": "markdown",
   "metadata": {},
   "source": [
    "### 对论文的发表日期进行分析"
   ]
  },
  {
   "cell_type": "markdown",
   "metadata": {},
   "source": [
    "以上对每个作者发表论文的浏览次数进行了统计分析，但是我们还期望了解关于每个作者发表论文日期的更多信息，而每个作者的论文的发表日期一般不同，现在我们对每个作者发表论文的publishonline日期进行分析。"
   ]
  },
  {
   "cell_type": "code",
   "execution_count": 6,
   "metadata": {},
   "outputs": [],
   "source": [
    "def get_max_publishonline(year_num_dict):\n",
    "    \"\"\"\n",
    "    功能：\n",
    "        计算论文数量最多的年份，当年份存在多个时，则保留最近的年份和对应的论文数量\n",
    "    参数：\n",
    "        year_num_dict：{年份：论文数量}\n",
    "    返回值：\n",
    "        以列表形式返回论文的数量最多的最近年份和对应的论文数量\n",
    "    \"\"\"\n",
    "    # 论文的最多数量\n",
    "    max_year_num = 0\n",
    "    # 论文数量最多的年份\n",
    "    max_year = 0\n",
    "    # TODO\n",
    "    # 计算论文的最多数量，以及对应的最近年份\n",
    "    for year,num in year_num_dict.items():\n",
    "        if num >= max_year_num :\n",
    "            max_year_num = num\n",
    "            max_year = year\n",
    "            \n",
    "    return [max_year, max_year_num]"
   ]
  },
  {
   "cell_type": "code",
   "execution_count": 7,
   "metadata": {},
   "outputs": [],
   "source": [
    "def get_year_num_dict(year_pubonline):\n",
    "    # 以字典形式返回作者每年发表的论文数量，year_num_dict = {年份：论文数量}\n",
    "    year_num_only = np.unique(year_pubonline)\n",
    "    year_num_dict = {}\n",
    "    for year_num in year_num_only:\n",
    "        year_num_dict[year_num] = year_pubonline.count(year_num)\n",
    "    return year_num_dict"
   ]
  },
  {
   "cell_type": "markdown",
   "metadata": {},
   "source": [
    "得到发表最多论文的年份，及该年发表的论文数量，以字典形式dict_year_num返回"
   ]
  },
  {
   "cell_type": "code",
   "execution_count": 8,
   "metadata": {},
   "outputs": [],
   "source": [
    "def get_publishonline_year(author_id,author_papers_dict):  \n",
    "    \"\"\"\n",
    "    功能：\n",
    "        根据authorID，得到作者发表论文的年份\n",
    "    参数：\n",
    "        author_id：作者的authorID号\n",
    "        author_papers_dict：包含了每个作者的paper数据，键为authorID，值为paper数据\n",
    "    返回值：\n",
    "        得到作者发表论文的年份列表\n",
    "    \"\"\"   \n",
    "    # 年份列表\n",
    "    year_pubonline = []\n",
    "    # TODO\n",
    "    # 将发表日期进行数据转换，将得到的年份存储到年份列表中   \n",
    "    \n",
    "    for paper in author_papers_dict[author_id]:\n",
    "        year_pubonline.append(datetime.datetime.strptime(paper['publishedOnline'], '%Y-%m-%d %H:%M:%S.%f').year)\n",
    "    \n",
    "    return get_year_num_dict(year_pubonline)\n"
   ]
  },
  {
   "cell_type": "markdown",
   "metadata": {},
   "source": [
    "依据作者列表，计算作者每年发表的论文数量，得到论文数量最多的年份，当年份存在多个时，则获取最近的年份，同时，获取该年份对应的论文次数"
   ]
  },
  {
   "cell_type": "code",
   "execution_count": 9,
   "metadata": {},
   "outputs": [
    {
     "name": "stdout",
     "output_type": "stream",
     "text": [
      "[[2002, 4], [2015, 8], [2001, 4], [1997, 4], [1998, 5], [2011, 5], [2005, 6], [2009, 5], [2011, 4], [2016, 9], [2011, 9], [2011, 7], [2005, 4], [2012, 6], [2010, 10], [2005, 11], [2008, 8], [1996, 6], [2004, 6], [1996, 6]]\n"
     ]
    }
   ],
   "source": [
    "year_num_lst = []\n",
    "for author_id in authors_id:\n",
    "    year_num = get_publishonline_year(author_id,author_papers_dict)\n",
    "    year_num_lst.append(get_max_publishonline(year_num))\n",
    "# year_num_lst是存储了年份和论文数量的列表\n",
    "# year_num_lst的每个元素是一个列表，这个列表为[publish_max_year,publish_year_num]，其中，第一个元素是authorID对应的论文数量最多的最近年份，第二个元素是论文的数量\n",
    "print(year_num_lst)"
   ]
  },
  {
   "cell_type": "markdown",
   "metadata": {},
   "source": [
    "### 合并数据，存入文件"
   ]
  },
  {
   "cell_type": "code",
   "execution_count": 10,
   "metadata": {},
   "outputs": [
    {
     "name": "stdout",
     "output_type": "stream",
     "text": [
      "authorID为: 5 的作者，发表了 30 篇论文。发表论文最多的年份是 2002 ,该年共发表4篇论文。作者论文的阅读数据如下：总阅读数：21262；平均阅读数：708；最多阅读数：2008；最少阅读数：77。\n",
      "authorID为: 18 的作者，发表了 75 篇论文。发表论文最多的年份是 2015 ,该年共发表8篇论文。作者论文的阅读数据如下：总阅读数：104646；平均阅读数：1395；最多阅读数：4436；最少阅读数：294。\n",
      "authorID为: 20 的作者，发表了 27 篇论文。发表论文最多的年份是 2001 ,该年共发表4篇论文。作者论文的阅读数据如下：总阅读数：50628；平均阅读数：1875；最多阅读数：8449；最少阅读数：153。\n",
      "authorID为: 22 的作者，发表了 23 篇论文。发表论文最多的年份是 1997 ,该年共发表4篇论文。作者论文的阅读数据如下：总阅读数：104357；平均阅读数：4537；最多阅读数：24208；最少阅读数：703。\n",
      "authorID为: 26 的作者，发表了 27 篇论文。发表论文最多的年份是 1998 ,该年共发表5篇论文。作者论文的阅读数据如下：总阅读数：46400；平均阅读数：1718；最多阅读数：3912；最少阅读数：150。\n",
      "authorID为: 29 的作者，发表了 21 篇论文。发表论文最多的年份是 2011 ,该年共发表5篇论文。作者论文的阅读数据如下：总阅读数：45794；平均阅读数：2180；最多阅读数：5259；最少阅读数：336。\n",
      "authorID为: 31 的作者，发表了 43 篇论文。发表论文最多的年份是 2005 ,该年共发表6篇论文。作者论文的阅读数据如下：总阅读数：174760；平均阅读数：4064；最多阅读数：9005；最少阅读数：639。\n",
      "authorID为: 48 的作者，发表了 46 篇论文。发表论文最多的年份是 2009 ,该年共发表5篇论文。作者论文的阅读数据如下：总阅读数：39357；平均阅读数：855；最多阅读数：3076；最少阅读数：77。\n",
      "authorID为: 53 的作者，发表了 40 篇论文。发表论文最多的年份是 2011 ,该年共发表4篇论文。作者论文的阅读数据如下：总阅读数：33246；平均阅读数：831；最多阅读数：3193；最少阅读数：77。\n",
      "authorID为: 57 的作者，发表了 121 篇论文。发表论文最多的年份是 2016 ,该年共发表9篇论文。作者论文的阅读数据如下：总阅读数：226309；平均阅读数：1870；最多阅读数：7739；最少阅读数：102。\n",
      "authorID为: 64 的作者，发表了 93 篇论文。发表论文最多的年份是 2011 ,该年共发表9篇论文。作者论文的阅读数据如下：总阅读数：333162；平均阅读数：3582；最多阅读数：17333；最少阅读数：413。\n",
      "authorID为: 65 的作者，发表了 58 篇论文。发表论文最多的年份是 2011 ,该年共发表7篇论文。作者论文的阅读数据如下：总阅读数：77045；平均阅读数：1328；最多阅读数：11303；最少阅读数：157。\n",
      "authorID为: 69 的作者，发表了 39 篇论文。发表论文最多的年份是 2005 ,该年共发表4篇论文。作者论文的阅读数据如下：总阅读数：47105；平均阅读数：1207；最多阅读数：4533；最少阅读数：117。\n",
      "authorID为: 70 的作者，发表了 72 篇论文。发表论文最多的年份是 2012 ,该年共发表6篇论文。作者论文的阅读数据如下：总阅读数：92540；平均阅读数：1285；最多阅读数：5545；最少阅读数：117。\n",
      "authorID为: 73 的作者，发表了 137 篇论文。发表论文最多的年份是 2010 ,该年共发表10篇论文。作者论文的阅读数据如下：总阅读数：211691；平均阅读数：1545；最多阅读数：9509；最少阅读数：127。\n",
      "authorID为: 74 的作者，发表了 117 篇论文。发表论文最多的年份是 2005 ,该年共发表11篇论文。作者论文的阅读数据如下：总阅读数：78072；平均阅读数：667；最多阅读数：3793；最少阅读数：67。\n",
      "authorID为: 79 的作者，发表了 79 篇论文。发表论文最多的年份是 2008 ,该年共发表8篇论文。作者论文的阅读数据如下：总阅读数：122582；平均阅读数：1551；最多阅读数：5184；最少阅读数：144。\n",
      "authorID为: 89 的作者，发表了 25 篇论文。发表论文最多的年份是 1996 ,该年共发表6篇论文。作者论文的阅读数据如下：总阅读数：11589；平均阅读数：463；最多阅读数：2315；最少阅读数：112。\n",
      "authorID为: 91 的作者，发表了 45 篇论文。发表论文最多的年份是 2004 ,该年共发表6篇论文。作者论文的阅读数据如下：总阅读数：25020；平均阅读数：556；最多阅读数：1928；最少阅读数：112。\n",
      "authorID为: 92 的作者，发表了 40 篇论文。发表论文最多的年份是 1996 ,该年共发表6篇论文。作者论文的阅读数据如下：总阅读数：21808；平均阅读数：545；最多阅读数：1525；最少阅读数：112。\n",
      "\n"
     ]
    }
   ],
   "source": [
    "file_path = './dataFile/author_paper_data.txt'\n",
    "with open(file_path,'w') as fn:\n",
    "    # TODO\n",
    "    # 根据authors_id列表的authorID号，将得到的数据列表author_paper_data(author_id,papers_num)、\n",
    "    # views_lst(sum_view,mean_view,max_view,min_view)、year_num_lst(publish_max_year,publish_year_num)进行合并，将合并后的数据进行输出\n",
    "    # 并且，将合并后的数据存入txt文件\n",
    "    res = \"\"\n",
    "#     print(authors_id,\"\\n\",author_paper_data,\"\\n\",views_lst,\"\\n\",year_num_lst) 求和、均值、最大值、最小值\n",
    "    author_len = len(authors_id)\n",
    "    for i in range(author_len):\n",
    "        tmp = \"authorID为: %d 的作者，发表了 %d 篇论文。\"\n",
    "        tmp += \"发表论文最多的年份是 %s ,该年共发表%d篇论文。\"\n",
    "        tmp += \"作者论文的阅读数据如下：总阅读数：%d；平均阅读数：%d；最多阅读数：%d；最少阅读数：%d。\\n\"\n",
    "        res += tmp%(authors_id[i], author_paper_data[i][1], \n",
    "                           year_num_lst[i][0], year_num_lst[i][1], \n",
    "                           views_lst[i][0], views_lst[i][1], views_lst[i][2], views_lst[i][3])\n",
    "        \n",
    "    print (res)\n",
    "    fn.write(res)\n",
    "\n",
    "    \n",
    "    \n",
    "    "
   ]
  },
  {
   "cell_type": "markdown",
   "metadata": {},
   "source": [
    "### 关闭数据库"
   ]
  },
  {
   "cell_type": "code",
   "execution_count": 11,
   "metadata": {},
   "outputs": [],
   "source": [
    "conn.commit()\n",
    "conn.close()"
   ]
  },
  {
   "cell_type": "code",
   "execution_count": null,
   "metadata": {},
   "outputs": [],
   "source": []
  }
 ],
 "metadata": {
  "kernelspec": {
   "display_name": "Python 3",
   "language": "python",
   "name": "python3"
  },
  "language_info": {
   "codemirror_mode": {
    "name": "ipython",
    "version": 3
   },
   "file_extension": ".py",
   "mimetype": "text/x-python",
   "name": "python",
   "nbconvert_exporter": "python",
   "pygments_lexer": "ipython3",
   "version": "3.6.5"
  }
 },
 "nbformat": 4,
 "nbformat_minor": 2
}
