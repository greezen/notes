{
 "cells": [
  {
   "cell_type": "markdown",
   "metadata": {},
   "source": [
    "## 小象学院课程\n",
    "## Pyhton数据分析\n",
    "## 美国化学学会杂志-1\n",
    "“美国化学学会杂志”是美国化学学会出版的首要期刊，也是所有化学领域排名最高的期刊之一。本项目的数据集是该期刊从1996到2016的论文集,用以分析作者发表论文的情况。"
   ]
  },
  {
   "cell_type": "markdown",
   "metadata": {},
   "source": [
    "> **提示**：<br>\n",
    "1、这样的文字将会指导你如何使用 jupyter Notebook 来完成项目。<br>\n",
    "2、你可以通过单击代码区域，然后使用键盘快捷键 Shift+Enter 或 Shift+Return 来运行代码。或者在选择代码后使用执行（run cell）按钮执行代码。Markdown的文字区域也同样可以如此操作。<br>\n",
    "3、在如下有# TODO 提示的地方，将代码补全，实现注释中所要求的功能。<br>\n",
    "4、在有\"** 回答：**\" 提示的地方，回答其上所提出的问题。<br>\n"
   ]
  },
  {
   "cell_type": "markdown",
   "metadata": {},
   "source": [
    "### 分析流程\n",
    "这里对本项目分析的具体流程和内容进行了概述，以对本项目有整体的了解<br>\n",
    "1 导入数据，分析表结构：导入sqlite数据文件，创建数据库，以及对数据库中的表结构进行分析，以对本项目的数据集有基本的认识。<br>\n",
    "2 计算论文的数量：计算每个作者对应的论文数量，得到论文数据量大于20的作者发表的论文数量，以对论文数量大于20的作者发表的论文情况进行研究<br>\n",
    "3 获得作者列表：得到论文数量大于20的作者，以了解论文数量大于20的作者有哪些<br>\n",
    "4 合并数据、存入文件：通过以上分析，将得到作者和作者发表的论文数量的数据进行合并，即将作者、作者ID号、论文数量进行合并，将数据存入JSON文件<br>"
   ]
  },
  {
   "cell_type": "markdown",
   "metadata": {},
   "source": [
    "### 项目数据集介绍：\n",
    "数据库对于数据分析非常重要，它可以存储大量有某种关系的表，通过对表进行连接操作，以实现对数据的潜在分析。\n",
    "本项目采用的数据集以sqlite的方式进行存储，数据集中包括三个表：\n",
    "* Authors：对作者进行描述\n",
    "* Paper_Authors：对作者发表论文的情况进行描述\n",
    "* Papers：关于论文的表"
   ]
  },
  {
   "cell_type": "markdown",
   "metadata": {},
   "source": [
    "### 导入数据，分析表结构"
   ]
  },
  {
   "cell_type": "markdown",
   "metadata": {},
   "source": [
    "导入必备的Python库"
   ]
  },
  {
   "cell_type": "code",
   "execution_count": 21,
   "metadata": {},
   "outputs": [],
   "source": [
    "import sqlite3\n",
    "import json\n",
    "import numpy as np"
   ]
  },
  {
   "cell_type": "markdown",
   "metadata": {},
   "source": [
    "### 连接数据库和得到数据库中的表"
   ]
  },
  {
   "cell_type": "markdown",
   "metadata": {},
   "source": [
    "获得数据库的连接，游标"
   ]
  },
  {
   "cell_type": "code",
   "execution_count": 22,
   "metadata": {},
   "outputs": [],
   "source": [
    "def connect_sqlite(sqlite_path):\n",
    "    # TODO\n",
    "    # 连接数据库，得到游标，为了使用游标对表按照字段名获取列数据，\n",
    "    # 这里需要将conn.row_factory设置为sqlite3.Row,这个设置很重要，不然不能通过字段名获得数据\n",
    "    \n",
    "    conn = sqlite3.connect(sqlite_path)\n",
    "    conn.row_factory=sqlite3.Row\n",
    "    cur = conn.cursor()\n",
    "    \n",
    "    return conn, cur\n",
    "\n",
    "conn, cur = connect_sqlite(\"./dataFile/database.sqlite\")"
   ]
  },
  {
   "cell_type": "markdown",
   "metadata": {},
   "source": [
    "得到数据库中的所有表"
   ]
  },
  {
   "cell_type": "code",
   "execution_count": 24,
   "metadata": {},
   "outputs": [
    {
     "name": "stdout",
     "output_type": "stream",
     "text": [
      "['Authors', 'Paper_Authors', 'Papers']\n"
     ]
    }
   ],
   "source": [
    "# TODO\n",
    "# 打印数据库中的所有表的名字\n",
    "sql = \"select * from sqlite_master where type='table';\"\n",
    "rows = cur.execute(sql).fetchall()\n",
    "tables = [row['name'] for row in rows]\n",
    "print(tables)\n"
   ]
  },
  {
   "cell_type": "markdown",
   "metadata": {},
   "source": [
    "### 获得Authors表的字段名,及表结构信息\n",
    "获取Authors表的列名"
   ]
  },
  {
   "cell_type": "code",
   "execution_count": 25,
   "metadata": {
    "scrolled": true
   },
   "outputs": [
    {
     "name": "stdout",
     "output_type": "stream",
     "text": [
      "Authors表的字段名为： ['authorID', 'title', 'forename', 'initials', 'surname', 'orcidID']\n"
     ]
    }
   ],
   "source": [
    "# 调用游标的description方法，获得Authors表的字段\n",
    "cur.execute(\"select * from Authors\")\n",
    "col_name_list = [tuple[0] for tuple in cur.description]\n",
    "print(\"Authors表的字段名为：\",col_name_list)\n"
   ]
  },
  {
   "cell_type": "markdown",
   "metadata": {},
   "source": [
    "####  本项目主要对Authors表的authorID、forename、surname字段进行分析\n",
    "* 字段名的说明：<br>\n",
    "authorID：作者的ID号<br>\n",
    "surname：姓<br>\n",
    "forename：名字<br>"
   ]
  },
  {
   "cell_type": "markdown",
   "metadata": {},
   "source": [
    "获取Authors表结构的信息"
   ]
  },
  {
   "cell_type": "code",
   "execution_count": 26,
   "metadata": {},
   "outputs": [
    {
     "name": "stdout",
     "output_type": "stream",
     "text": [
      "[0, 'authorID', 'INTEGER', 0, None, 1]\n",
      "[1, 'title', 'TEXT', 0, None, 0]\n",
      "[2, 'forename', 'TEXT', 0, None, 0]\n",
      "[3, 'initials', 'TEXT', 0, None, 0]\n",
      "[4, 'surname', 'TEXT', 0, None, 0]\n",
      "[5, 'orcidID', 'TEXT', 0, None, 0]\n"
     ]
    }
   ],
   "source": [
    "# 执行PRAGMA table_info语句获取Authors表结构信息，并且打印\n",
    "cur.execute(\"PRAGMA table_info({})\".format('Authors'))\n",
    "for author in cur.fetchall():\n",
    "    print([author[i] for i in range(len(author))])\n"
   ]
  },
  {
   "cell_type": "markdown",
   "metadata": {},
   "source": [
    "查看Authors表中author的数量，且是否唯一"
   ]
  },
  {
   "cell_type": "code",
   "execution_count": 27,
   "metadata": {},
   "outputs": [
    {
     "name": "stdout",
     "output_type": "stream",
     "text": [
      "120670\n",
      "120670\n"
     ]
    }
   ],
   "source": [
    "cur.execute(\"select * from Authors\")\n",
    "# TODO\n",
    "# 获得Authors表中authorID的个数及非重复个数，其中，使用np.unique，可以计算非重复个数\n",
    "rows = cur.fetchall()\n",
    "\n",
    "\n",
    "\n",
    "authors_all = len(rows)\n",
    "authors_only = len(np.unique([row['authorID'] for row in rows]))\n",
    "print(authors_all)\n",
    "print(authors_only)    "
   ]
  },
  {
   "cell_type": "markdown",
   "metadata": {},
   "source": [
    "#### 问题：Authors表中有多少个author，唯一吗"
   ]
  },
  {
   "cell_type": "markdown",
   "metadata": {},
   "source": [
    "** 回答： ** 120670个，唯一"
   ]
  },
  {
   "cell_type": "markdown",
   "metadata": {},
   "source": [
    "### 获得Papers表的信息"
   ]
  },
  {
   "cell_type": "code",
   "execution_count": 28,
   "metadata": {},
   "outputs": [
    {
     "name": "stdout",
     "output_type": "stream",
     "text": [
      "['paperID', 'DOI', 'type', 'title', 'abstract', 'volume', 'issue', 'startpg', 'endpg', 'received', 'publishedOnline', 'publishedPrint', 'authorChoiceOA', 'editorChoiceOA', 'views', 'citations', 'scrapeDT']\n"
     ]
    }
   ],
   "source": [
    "cur.execute(\"select * from Papers\")\n",
    "# TODO\n",
    "# 获取Papers表的所有字段名，以列表形式进行输出\n",
    "\n",
    "\n",
    "\n",
    "\n",
    "name_paper_lst = [row[0] for row in cur.description]\n",
    "print(name_paper_lst)"
   ]
  },
  {
   "cell_type": "markdown",
   "metadata": {},
   "source": [
    "#### 下一作业中会涉及到对Papers表中的'paperID'、'views'，'publishedOnline'字段进行分析\n",
    "* 字段名的说明：<br>\n",
    "paperID：paper的编号<br>\n",
    "type：文献所属的类型<br>\n",
    "title：标题<br>\n",
    "abstract：摘要<br>\n",
    "startpg：起始页<br>\n",
    "publishedOnline：发表日期<br>\n",
    "views：被查看次数<br>\n",
    "citations：引用次数<br>"
   ]
  },
  {
   "cell_type": "code",
   "execution_count": 29,
   "metadata": {
    "scrolled": true
   },
   "outputs": [
    {
     "name": "stdout",
     "output_type": "stream",
     "text": [
      "以下是Papers表中paperID，publishedOnline，views字段的前10行数据\n",
      "\n",
      "1 1996-01-10 00:00:00.000000 1872\n",
      "2 1996-01-10 00:00:00.000000 979\n",
      "3 1996-01-10 00:00:00.000000 481\n",
      "4 1996-01-10 00:00:00.000000 456\n",
      "5 1996-01-10 00:00:00.000000 769\n",
      "6 1996-01-10 00:00:00.000000 3672\n",
      "7 1996-01-10 00:00:00.000000 595\n",
      "8 1996-01-10 00:00:00.000000 639\n",
      "9 1996-01-10 00:00:00.000000 564\n",
      "10 1996-01-10 00:00:00.000000 225\n"
     ]
    }
   ],
   "source": [
    "print(\"以下是Papers表中paperID，publishedOnline，views字段的前10行数据\\n\")\n",
    "# TODO\n",
    "# 调用fetchmany方法获得前十行数据，调用字段名，打印Papers表中paperID，publishedOnline，views字段的数据,要求paperID号从1开始\n",
    "sql = \"select paperID,publishedOnline,views from Papers order by paperID asc\"\n",
    "\n",
    "rows = cur.execute(sql).fetchmany(10)\n",
    "for row in rows:\n",
    "    print(row['paperID'], row['publishedOnline'], row['views'])\n",
    "\n",
    "\n"
   ]
  },
  {
   "cell_type": "markdown",
   "metadata": {},
   "source": [
    "查看Papers表的paperID是否唯一"
   ]
  },
  {
   "cell_type": "code",
   "execution_count": 30,
   "metadata": {
    "scrolled": false
   },
   "outputs": [
    {
     "name": "stdout",
     "output_type": "stream",
     "text": [
      "59467\n",
      "59467\n"
     ]
    }
   ],
   "source": [
    "cur.execute(\"select * from Papers\")\n",
    "# TODO\n",
    "# 获得Papers表中paperID的个数及非重复个数\n",
    "\n",
    "rows = cur.fetchall()\n",
    "\n",
    "\n",
    "paper_all = len([row['paperID'] for row in rows])\n",
    "paper_only = len(np.unique([row['paperID'] for row in rows]))\n",
    "print(paper_all)\n",
    "print(paper_only)"
   ]
  },
  {
   "cell_type": "markdown",
   "metadata": {},
   "source": [
    "问题：Papers表中有多少论文，paperID是唯一的吗"
   ]
  },
  {
   "cell_type": "markdown",
   "metadata": {},
   "source": [
    "** 回答： ** 59467篇论文，是唯一的"
   ]
  },
  {
   "cell_type": "markdown",
   "metadata": {},
   "source": [
    "### 获得Paper_Authors表的字段名,以及表信息"
   ]
  },
  {
   "cell_type": "markdown",
   "metadata": {},
   "source": [
    "查询Paper_Authors表的前二十行数据"
   ]
  },
  {
   "cell_type": "code",
   "execution_count": 31,
   "metadata": {},
   "outputs": [
    {
     "data": {
      "text/plain": [
       "<sqlite3.Cursor at 0x2af365767a0>"
      ]
     },
     "execution_count": 31,
     "metadata": {},
     "output_type": "execute_result"
    }
   ],
   "source": [
    "cur.execute(\"select * from Paper_Authors limit 20\")"
   ]
  },
  {
   "cell_type": "code",
   "execution_count": 32,
   "metadata": {},
   "outputs": [
    {
     "name": "stdout",
     "output_type": "stream",
     "text": [
      "['paperID', 'authorID']\n"
     ]
    }
   ],
   "source": [
    "# TODO\n",
    "# 查看Paper_Authors表包含的字段\n",
    "\n",
    "colums = [row[0] for row in cur.description]\n",
    "print(colums)\n",
    "\n"
   ]
  },
  {
   "cell_type": "markdown",
   "metadata": {},
   "source": [
    "字段说明：<br>\n",
    "paperID：paper的ID,对应了Papers表中的paperID<br>\n",
    "authorID: author的ID,对应了Authors表中的authorID"
   ]
  },
  {
   "cell_type": "code",
   "execution_count": 33,
   "metadata": {
    "scrolled": true
   },
   "outputs": [
    {
     "name": "stdout",
     "output_type": "stream",
     "text": [
      "以下是Paper_Authors表中authorID，paperID字段的前20行数据\n",
      "\n",
      "1 1\n",
      "1 2\n",
      "1 3\n",
      "1 4\n",
      "1 5\n",
      "1 6\n",
      "1 7\n",
      "1 8\n",
      "2 9\n",
      "2 10\n",
      "2 11\n",
      "3 12\n",
      "3 13\n",
      "3 14\n",
      "4 15\n",
      "4 16\n",
      "4 17\n",
      "4 18\n",
      "4 19\n",
      "5 20\n"
     ]
    }
   ],
   "source": [
    "print(\"以下是Paper_Authors表中authorID，paperID字段的前20行数据\\n\")\n",
    "# TODO\n",
    "# 调用字段名，打印Paper_Authors表中paperID，authorID字段的前20行数据\n",
    "rows = cur.fetchall()\n",
    "for row in rows:\n",
    "    print(row['paperID'], row['authorID'])\n",
    "\n"
   ]
  },
  {
   "cell_type": "markdown",
   "metadata": {},
   "source": [
    "问题：从以上结果得出什么结论<br>"
   ]
  },
  {
   "cell_type": "markdown",
   "metadata": {},
   "source": [
    "** 回答： ** <br>一篇论文可能是由多个人共同完成的"
   ]
  },
  {
   "cell_type": "markdown",
   "metadata": {},
   "source": [
    "分析Authors、Papers、Paper_Authors表的数据量存在的隐含关系"
   ]
  },
  {
   "cell_type": "code",
   "execution_count": 34,
   "metadata": {},
   "outputs": [],
   "source": [
    "cur.execute(\"select * from Paper_Authors\")\n",
    "paper_author_data = cur.fetchall()"
   ]
  },
  {
   "cell_type": "code",
   "execution_count": 35,
   "metadata": {},
   "outputs": [
    {
     "name": "stdout",
     "output_type": "stream",
     "text": [
      "Paper_Authors表包括: 278639条数据\n",
      "Paper_Authors表包括: 120670条唯一的authorID数据\n"
     ]
    }
   ],
   "source": [
    "paper_author_authorid = [paper_author[\"authorID\"] for paper_author in paper_author_data]\n",
    "print(\"Paper_Authors表包括: {}条数据\".format(len(paper_author_authorid)))\n",
    "print(\"Paper_Authors表包括: {}条唯一的authorID数据\".format(len(np.unique(paper_author_authorid))))"
   ]
  },
  {
   "cell_type": "code",
   "execution_count": 36,
   "metadata": {},
   "outputs": [
    {
     "name": "stdout",
     "output_type": "stream",
     "text": [
      "Paper_Authors表包括: 278639条数据\n",
      "Paper_Authors表包括: 58932条唯一的paperID数据\n"
     ]
    }
   ],
   "source": [
    "paper_author_paperid = [paper_author[\"paperID\"] for paper_author in paper_author_data]\n",
    "print(\"Paper_Authors表包括: {}条数据\".format(len(paper_author_paperid)))\n",
    "print(\"Paper_Authors表包括: {}条唯一的paperID数据\".format(len(np.unique(paper_author_paperid))))"
   ]
  },
  {
   "cell_type": "markdown",
   "metadata": {},
   "source": [
    "问题：<br>\n",
    "1、Paper_Authors表共有多少条数据<br>\n",
    "2、Authors表和Paper_Authors表中的作者数量一样吗，说明了什么?<br>\n",
    "3、Papers表和Paper_Authors表中的paper数量一样吗，说明了什么?<br>"
   ]
  },
  {
   "cell_type": "markdown",
   "metadata": {},
   "source": [
    "** 回答： ** <br>\n",
    "1、278639条数据<br>\n",
    "2、一样，每个作者都有发表至少一篇论文<br>\n",
    "3、不一样，部分论文在Papers表中不存在"
   ]
  },
  {
   "cell_type": "markdown",
   "metadata": {},
   "source": [
    "### 计算论文的数量"
   ]
  },
  {
   "cell_type": "markdown",
   "metadata": {},
   "source": [
    "对项目的数据集进行基本了解之后，下面我们将通过Authors表查询前100名的作者(由于作者太多会增加运行时间，所以本项目只取了前100名作者的数据进行分析)，依据作者的authorID在Paper_Authors表中查询对应的数据，通过Paper_Authors表中的paperID字段，得到该作者发表的所有paperID号，进而对前100名作者发表的论文数量进行统计。<br>\n",
    "* 发表的论文数量进行统计，得到论文数大于20的作者的论文数"
   ]
  },
  {
   "cell_type": "code",
   "execution_count": 42,
   "metadata": {},
   "outputs": [
    {
     "name": "stdout",
     "output_type": "stream",
     "text": [
      "[[5, 30], [18, 75], [20, 27], [22, 23], [26, 27], [29, 21], [31, 43], [48, 46], [53, 40], [57, 121], [64, 93], [65, 58], [69, 39], [70, 72], [73, 137], [74, 117], [79, 79], [89, 25], [91, 45], [92, 40]]\n"
     ]
    }
   ],
   "source": [
    "def get_authorid_and_papernum(authors):\n",
    "    \"\"\"\n",
    "    功能：\n",
    "        计算论文数量大于20的作者，得到该作者的authorID和论文数量\n",
    "    参数：\n",
    "        authors是Authors表的每一行数据\n",
    "    返回值：\n",
    "        以列表的形式返回authorID和论文数量\n",
    "    \"\"\"\n",
    "    paper_authors=[]\n",
    "    # TODO\n",
    "    # 通过Paper_Authors表的authorID，得到每个作者发表的论文数量，计算论文数量大于20的作者，得到该作者的authorID和论文数量，\n",
    "    # 将authorID和论文数量用paper_authors列表存放，paer_authors的格式如 paper_authors = [[1,56],[2,23]],表示authorID==1的作者，\n",
    "    # 发表了56个论文，authorID==2的作者，发表了23个论文\n",
    "    \n",
    "    for author in authors:\n",
    "        sql = \"select count(*) num from Paper_Authors where authorID = {}\".format(author['authorID'])\n",
    "        res = cur.execute(sql).fetchone()\n",
    "        if res['num'] > 20:\n",
    "            paper_authors.append([author['authorID'], res['num']])\n",
    "    \n",
    "    \n",
    "    \n",
    "\n",
    "    return paper_authors\n",
    "\n",
    "# 由于Authors的数据较多，因此，这里仅获得前100名author的authorID，对前100名作者的论文情况进行分析\n",
    "authors = cur.execute(\"select * from Authors limit 100\").fetchall()\n",
    "authorid_papernum_lst = get_authorid_and_papernum(authors)\n",
    "print(authorid_papernum_lst)"
   ]
  },
  {
   "cell_type": "markdown",
   "metadata": {},
   "source": [
    "从以上的结果中进行分析，得到作者ID号列表，列表中存放符合条件的authorID号，以后会经常用到此作者列表，比如分析作者的名字列表<br>\n",
    "正确答案：作者ID号列表中的authorID号为[5, 18, 20, 22, 26, 29, 31, 48, 53, 57, 64, 65, 69, 70, 73, 74, 79, 89, 91, 92]，作者列表包含20个作者的ID号"
   ]
  },
  {
   "cell_type": "code",
   "execution_count": 43,
   "metadata": {
    "scrolled": true
   },
   "outputs": [
    {
     "name": "stdout",
     "output_type": "stream",
     "text": [
      "作者的ID号列表中的authorID号为：[5, 18, 20, 22, 26, 29, 31, 48, 53, 57, 64, 65, 69, 70, 73, 74, 79, 89, 91, 92],作者列表包含20个作者的ID号\n"
     ]
    }
   ],
   "source": [
    "# TODO\n",
    "# 从以上得到的结果authorid_papernum_lst列表中得到作者的ID号列表\n",
    "authors_id = [row[0] for row in authorid_papernum_lst]\n",
    "\n",
    "\n",
    "\n",
    "print(\"作者的ID号列表中的authorID号为：{},作者列表包含{}个作者的ID号\".format(authors_id,len(authors_id)))"
   ]
  },
  {
   "cell_type": "markdown",
   "metadata": {},
   "source": [
    "### 得到作者的名字列表\n",
    "通过对上一个问题进行分析，我们得到了论文数量和作者的ID号列表，现在需要根据作者的ID号列表authors_id，在Authors表中查询每个作者的forename和surname，进而得到作者的名字列表。<br>\n",
    "名字=名+姓(forename=名，surname=姓)<br>"
   ]
  },
  {
   "cell_type": "code",
   "execution_count": 49,
   "metadata": {
    "scrolled": true
   },
   "outputs": [
    {
     "name": "stdout",
     "output_type": "stream",
     "text": [
      "作者的名字列表为：['James Snyder', 'Kenneth Karlin', 'Per-Ola Norrby', 'K. Sharpless', 'M. Ghadiri', 'Kurt Gothelf', 'Karl Jørgensen', 'Ivano Bertini', 'Claudio Luchinat', 'Michael Wasielewski', 'Robert Grubbs', 'Joseph Ziller', 'Jay Winkler', 'Harry Gray', 'Stephen Lippard', 'Brian Hoffman', 'Atsuhiro Osuka', 'Fernando Bernardi', 'Massimo Olivucci', 'Michael Robb']\n"
     ]
    }
   ],
   "source": [
    "def get_author_name(cur,author_id):\n",
    "    \"\"\"\n",
    "    功能：\n",
    "        根据authorID，从Authors表中得到forename和surname字段，进而得到作者的名字\n",
    "    参数：\n",
    "        cur是游标，author_id是作者的authorID号\n",
    "    返回值：\n",
    "        返回作者的名字\n",
    "    \"\"\"\n",
    "    authors_forename = []\n",
    "    # TODO\n",
    "    # 使用单空格将Authors表中的forename和surname字段进行拼接，返回作者的名字\n",
    "    sql = \"select forename,surname from Authors where authorID = {}\".format(author_id)\n",
    "    author = cur.execute(sql).fetchone()\n",
    "    authors_forename.append(author['forename'] + ' '+ author['surname'])\n",
    "    \n",
    "    \n",
    "\n",
    "    return authors_forename\n",
    "\n",
    "# authors_name_lst是作者的名字列表，该列表包括20个名字\n",
    "authors_name_lst = [get_author_name(cur, author_id)[0] for author_id in authors_id]\n",
    "print(\"作者的名字列表为：{}\".format(authors_name_lst))"
   ]
  },
  {
   "cell_type": "markdown",
   "metadata": {},
   "source": [
    "### 合并数据，存入文件"
   ]
  },
  {
   "cell_type": "markdown",
   "metadata": {},
   "source": [
    "通过以上的分析，我们得到了作者的ID号列表，以及对应的作者名字列表和作者的论文数，现在我们要将这些数据进行合并，指在将合并后的数据存入文件进行保存。"
   ]
  },
  {
   "cell_type": "markdown",
   "metadata": {},
   "source": [
    "合并数据"
   ]
  },
  {
   "cell_type": "code",
   "execution_count": 51,
   "metadata": {
    "scrolled": false
   },
   "outputs": [
    {
     "name": "stdout",
     "output_type": "stream",
     "text": [
      "{'author_name': 'James Snyder', 'author_id': 5, 'papers_num': 30}\n",
      "{'author_name': 'Kenneth Karlin', 'author_id': 18, 'papers_num': 75}\n",
      "{'author_name': 'Per-Ola Norrby', 'author_id': 20, 'papers_num': 27}\n",
      "{'author_name': 'K. Sharpless', 'author_id': 22, 'papers_num': 23}\n",
      "{'author_name': 'M. Ghadiri', 'author_id': 26, 'papers_num': 27}\n",
      "{'author_name': 'Kurt Gothelf', 'author_id': 29, 'papers_num': 21}\n",
      "{'author_name': 'Karl Jørgensen', 'author_id': 31, 'papers_num': 43}\n",
      "{'author_name': 'Ivano Bertini', 'author_id': 48, 'papers_num': 46}\n",
      "{'author_name': 'Claudio Luchinat', 'author_id': 53, 'papers_num': 40}\n",
      "{'author_name': 'Michael Wasielewski', 'author_id': 57, 'papers_num': 121}\n",
      "{'author_name': 'Robert Grubbs', 'author_id': 64, 'papers_num': 93}\n",
      "{'author_name': 'Joseph Ziller', 'author_id': 65, 'papers_num': 58}\n",
      "{'author_name': 'Jay Winkler', 'author_id': 69, 'papers_num': 39}\n",
      "{'author_name': 'Harry Gray', 'author_id': 70, 'papers_num': 72}\n",
      "{'author_name': 'Stephen Lippard', 'author_id': 73, 'papers_num': 137}\n",
      "{'author_name': 'Brian Hoffman', 'author_id': 74, 'papers_num': 117}\n",
      "{'author_name': 'Atsuhiro Osuka', 'author_id': 79, 'papers_num': 79}\n",
      "{'author_name': 'Fernando Bernardi', 'author_id': 89, 'papers_num': 25}\n",
      "{'author_name': 'Massimo Olivucci', 'author_id': 91, 'papers_num': 45}\n",
      "{'author_name': 'Michael Robb', 'author_id': 92, 'papers_num': 40}\n"
     ]
    }
   ],
   "source": [
    "total_author_paper_lst=[]\n",
    "for i in range(len(authors_id)):\n",
    "# TODO\n",
    "# 按照authorID的ID号，将得到的数据列表author_name_lst(authors_name)、authorid_papernum_lst(author_id,papers_num)依次赋值给\n",
    "# 名称为\"author_name\",\"author_id\",\"papers_num\"的数据结构，比如字典，然后在for循环中将数据进行打印，最后将结果存入total_author_paper_lst中\n",
    "    tmp = dict()\n",
    "    tmp['author_name'] = authors_name_lst[i]\n",
    "    tmp['author_id'] = authorid_papernum_lst[i][0]\n",
    "    tmp['papers_num'] = authorid_papernum_lst[i][1]\n",
    "    print(tmp)\n",
    "    total_author_paper_lst.append(tmp)\n",
    "\n",
    "\n",
    "\n",
    "\n"
   ]
  },
  {
   "cell_type": "markdown",
   "metadata": {},
   "source": [
    "存入文件"
   ]
  },
  {
   "cell_type": "code",
   "execution_count": 53,
   "metadata": {},
   "outputs": [],
   "source": [
    "file_path = './dataFile/author_paper_data.json'\n",
    "# TODO\n",
    "# 将数据total_author_paper_lst存入author_paper_data.json文件\n",
    "\n",
    "with open(file_path, 'w') as f:\n",
    "    json.dump(total_author_paper_lst, f)\n"
   ]
  },
  {
   "cell_type": "markdown",
   "metadata": {},
   "source": [
    "关闭数据库"
   ]
  },
  {
   "cell_type": "code",
   "execution_count": 55,
   "metadata": {},
   "outputs": [],
   "source": [
    "# TODO\n",
    "# 提交事务\n",
    "# 关闭数据库\n",
    "conn.commit()\n",
    "cur.close()\n",
    "\n",
    "\n"
   ]
  },
  {
   "cell_type": "markdown",
   "metadata": {},
   "source": [
    "### 你好，首先恭喜你完成了以上作业，下面我们将开启下一个旅程，去完成第二个作业，第二个作业是依据本作业存入的数据，进一步对该项目进行分析，内容如下：\n",
    "* 依据作者ID号列表，对每个作者的发表论文的浏览次数进行分析\n",
    "* 依据作者ID号列表，对每个作者发表论文的日期进行分析"
   ]
  },
  {
   "cell_type": "code",
   "execution_count": null,
   "metadata": {},
   "outputs": [],
   "source": []
  }
 ],
 "metadata": {
  "kernelspec": {
   "display_name": "py_data_anal",
   "language": "python",
   "name": "py_data_anal"
  },
  "language_info": {
   "codemirror_mode": {
    "name": "ipython",
    "version": 3
   },
   "file_extension": ".py",
   "mimetype": "text/x-python",
   "name": "python",
   "nbconvert_exporter": "python",
   "pygments_lexer": "ipython3",
   "version": "3.6.5"
  }
 },
 "nbformat": 4,
 "nbformat_minor": 2
}
